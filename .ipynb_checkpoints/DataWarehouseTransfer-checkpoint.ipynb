{
 "cells": [
  {
   "cell_type": "markdown",
   "metadata": {},
   "source": [
    "## Create Connections"
   ]
  },
  {
   "cell_type": "code",
   "execution_count": 2,
   "metadata": {},
   "outputs": [],
   "source": [
    "%load_ext sql\n",
    "import pandas as pd\n",
    "import sqlite3"
   ]
  },
  {
   "cell_type": "code",
   "execution_count": 3,
   "metadata": {},
   "outputs": [],
   "source": [
    "%sql sqlite:///CourseDataWarehouse.db \n",
    "conn = sqlite3.connect('CourseDataWarehouse.db')"
   ]
  },
  {
   "cell_type": "markdown",
   "metadata": {},
   "source": [
    "## Attach and Create new Tables"
   ]
  },
  {
   "cell_type": "code",
   "execution_count": 5,
   "metadata": {},
   "outputs": [
    {
     "name": "stdout",
     "output_type": "stream",
     "text": [
      " * sqlite:///CourseDataWarehouse.db\n",
      "Done.\n"
     ]
    },
    {
     "data": {
      "text/plain": [
       "[]"
      ]
     },
     "execution_count": 5,
     "metadata": {},
     "output_type": "execute_result"
    }
   ],
   "source": [
    "%%sql\n",
    "ATTACH DATABASE 'CourseData.db' AS OGDB"
   ]
  },
  {
   "cell_type": "code",
   "execution_count": null,
   "metadata": {},
   "outputs": [],
   "source": []
  },
  {
   "cell_type": "code",
   "execution_count": 6,
   "metadata": {},
   "outputs": [
    {
     "name": "stdout",
     "output_type": "stream",
     "text": [
      " * sqlite:///CourseDataWarehouse.db\n",
      "Done.\n",
      "Done.\n",
      "Done.\n",
      "Done.\n",
      "Done.\n",
      "Done.\n",
      "Done.\n",
      "Done.\n",
      "Done.\n",
      "Done.\n",
      "Done.\n",
      "Done.\n",
      "Done.\n",
      "Done.\n",
      "Done.\n",
      "Done.\n"
     ]
    },
    {
     "data": {
      "text/plain": [
       "[]"
      ]
     },
     "execution_count": 6,
     "metadata": {},
     "output_type": "execute_result"
    }
   ],
   "source": [
    "%%sql\n",
    "\n",
    "DROP TABLE IF EXISTS CLASSMEETINGS;\n",
    "CREATE TABLE CLASSMEETINGS (\n",
    "    section_meetings_id INTEGER PRIMARY KEY,\n",
    "    crn INTEGER,\n",
    "    location_code TEXT,\n",
    "    section_id INTEGER,\n",
    "    catalog_id TEXT,\n",
    "    course_title TEXT,\n",
    "    credits INTEGER,\n",
    "    prereqs TEXT,\n",
    "    coreqs TEXT,\n",
    "    fees INTEGER,\n",
    "    attributes TEXT,\n",
    "    description TEXT,\n",
    "    program_code TEXT,\n",
    "    title TEXT,\n",
    "    section TEXT,\n",
    "    cap INTEGER,\n",
    "    act INTEGER,\n",
    "    remaining INTEGER,\n",
    "    time_codes TEXT,\n",
    "    instructor_id INTEGER,\n",
    "    term TEXT,\n",
    "    FOREIGN KEY (location_code) REFERENCES CLASSLOCATIONS (location_code)\n",
    "    FOREIGN KEY (program_code) REFERENCES CLASSPROGRAMS (program_code)\n",
    "    FOREIGN KEY (time_codes) REFERENCES Time_Codes (time_codes)\n",
    "    FOREIGN KEY (term) REFERENCES CLASSTERMS (term)\n",
    "    FOREIGN KEY (instructor_id) REFERENCES CLASSINSTRUCTORS (instructor_id)\n",
    ");\n",
    "CREATE INDEX ix_section_meetings_id_alt_key on CLASSMEETINGS(section_meetings_id);\n",
    "\n",
    "DROP TABLE IF EXISTS CLASSTERMS;\n",
    "CREATE TABLE CLASSTERMS (\n",
    "    term_code INTEGER PRIMARY KEY,\n",
    "    term TEXT NOT NULL,\n",
    "    FOREIGN KEY (term) REFERENCES CLASSMEETINGS (term)\n",
    ");\n",
    "CREATE INDEX ix_term_code_alt_key on CLASSTERMS(term);\n",
    "\n",
    "DROP TABLE IF EXISTS Time_Codes;\n",
    "CREATE TABLE Time_Codes (\n",
    "    time_codes_id INTEGER PRIMARY KEY,\n",
    "    time_codes TEXT,\n",
    "    start TEXT,\n",
    "    end TEXT,\n",
    "    day TEXT,\n",
    "    location_code TEXT,\n",
    "    FOREIGN KEY (time_codes) REFERENCES CLASSMEETINGS (time_codes)\n",
    "    FOREIGN KEY (location_code) REFERENCES CLASSLOCATIONS (location_code)\n",
    ");\n",
    "CREATE INDEX ix_time_code_id_alt_key on Time_Codes(time_codes_id);\n",
    "\n",
    "DROP TABLE IF EXISTS CLASSLOCATIONS;\n",
    "CREATE TABLE CLASSLOCATIONS (\n",
    "    location_code TEXT PRIMARY KEY,\n",
    "    building TEXT,\n",
    "    room_number INTEGER,\n",
    "    FOREIGN KEY (location_code) REFERENCES CLASSMEETINGS (location_code)\n",
    ");\n",
    "\n",
    "DROP TABLE IF EXISTS CLASSINSTRUCTORS;\n",
    "CREATE TABLE CLASSINSTRUCTORS (\n",
    "    instructor_id INTEGER NOT NULL PRIMARY KEY,\n",
    "    instructor_name TEXT NOT NULL,\n",
    "    FOREIGN KEY (instructor_id) REFERENCES CLASSMEETINGS (instructor_id)\n",
    ");\n",
    "CREATE INDEX ix_instructor_id_alt_key on CLASSINSTRUCTORS(instructor_name);\n",
    "\n",
    "DROP TABLE IF EXISTS CLASSPROGRAMS;\n",
    "CREATE TABLE CLASSPROGRAMS (\n",
    "    program_code TEXT NOT NULL PRIMARY KEY,\n",
    "    program_name TEXT NOT NULL,\n",
    "    FOREIGN KEY (program_code) REFERENCES CLASSMEETINGS (program_code)\n",
    ");"
   ]
  },
  {
   "cell_type": "code",
   "execution_count": 7,
   "metadata": {},
   "outputs": [
    {
     "name": "stdout",
     "output_type": "stream",
     "text": [
      " * sqlite:///CourseDataWarehouse.db\n",
      "Done.\n"
     ]
    },
    {
     "data": {
      "text/html": [
       "<table>\n",
       "    <tr>\n",
       "        <th>COUNT(*)</th>\n",
       "    </tr>\n",
       "    <tr>\n",
       "        <td>16289</td>\n",
       "    </tr>\n",
       "</table>"
      ],
      "text/plain": [
       "[(16289,)]"
      ]
     },
     "execution_count": 7,
     "metadata": {},
     "output_type": "execute_result"
    }
   ],
   "source": [
    "%%sql\n",
    "\n",
    "SELECT COUNT(*)\n",
    "FROM (\n",
    "SELECT DISTINCT s.crn, sm.location_code, s.section_id, cc.catalog_id, cc.course_title, cc.credits, cc.prereqs, cc.coreqs, \n",
    "                cc.fees, cc.attributes, cc.description, cc.program_code, s.title, s.section, s.cap, s.act, s.remaining, s.time_codes, s.instructor_name, s.term \n",
    "FROM OGDB.SECTION AS s\n",
    "LEFT JOIN OGDB.CATALOGCOURSE AS cc USING (catalog_id)\n",
    "LEFT JOIN OGDB.SECTIONMEETINGS AS sm USING (section_id));"
   ]
  },
  {
   "cell_type": "code",
   "execution_count": 8,
   "metadata": {},
   "outputs": [
    {
     "name": "stdout",
     "output_type": "stream",
     "text": [
      " * sqlite:///CourseDataWarehouse.db\n",
      "0 rows affected.\n",
      "16289 rows affected.\n"
     ]
    },
    {
     "data": {
      "text/plain": [
       "[]"
      ]
     },
     "execution_count": 8,
     "metadata": {},
     "output_type": "execute_result"
    }
   ],
   "source": [
    "%%sql\n",
    "\n",
    "DELETE FROM CLASSMEETINGS;\n",
    "INSERT INTO CLASSMEETINGS (crn, location_code, section_id, catalog_id, course_title, credits, prereqs, coreqs, \n",
    "                             fees, attributes, description, program_code, title, section, cap, act, remaining, time_codes, instructor_id, term)\n",
    "SELECT DISTINCT s.crn, sm.location_code, s.section_id, cc.catalog_id, cc.course_title, cc.credits, cc.prereqs, cc.coreqs, \n",
    "                cc.fees, cc.attributes, cc.description, cc.program_code, s.title, s.section, s.cap, s.act, s.remaining, s.time_codes, i.instructor_id, s.term \n",
    "FROM OGDB.SECTION s\n",
    "LEFT JOIN OGDB.CATALOGCOURSE cc USING (catalog_id)\n",
    "LEFT JOIN OGDB.SECTIONMEETINGS sm USING (section_id)\n",
    "LEFT JOIN OGDB.INSTRUCTORS i USING (instructor_name);"
   ]
  },
  {
   "cell_type": "code",
   "execution_count": 9,
   "metadata": {},
   "outputs": [
    {
     "name": "stdout",
     "output_type": "stream",
     "text": [
      " * sqlite:///CourseDataWarehouse.db\n",
      "0 rows affected.\n",
      "19 rows affected.\n"
     ]
    },
    {
     "data": {
      "text/plain": [
       "[]"
      ]
     },
     "execution_count": 9,
     "metadata": {},
     "output_type": "execute_result"
    }
   ],
   "source": [
    "%%sql\n",
    "\n",
    "DELETE FROM CLASSTERMS;\n",
    "INSERT INTO CLASSTERMS (term_code, term)\n",
    "SELECT DISTINCT term_code, term\n",
    "FROM OGDB.TERMS;"
   ]
  },
  {
   "cell_type": "code",
   "execution_count": 10,
   "metadata": {},
   "outputs": [
    {
     "name": "stdout",
     "output_type": "stream",
     "text": [
      " * sqlite:///CourseDataWarehouse.db\n",
      "0 rows affected.\n",
      "272215 rows affected.\n"
     ]
    },
    {
     "data": {
      "text/plain": [
       "[]"
      ]
     },
     "execution_count": 10,
     "metadata": {},
     "output_type": "execute_result"
    }
   ],
   "source": [
    "%%sql\n",
    "\n",
    "DELETE FROM Time_Codes;\n",
    "INSERT INTO Time_Codes (time_codes, start, end, day, location_code)\n",
    "SELECT DISTINCT s.time_codes, sm.start, sm.end, sm.day, sm.location_code\n",
    "FROM OGDB.SECTIONMEETINGS AS sm\n",
    "LEFT JOIN OGDB.SECTION AS s USING (section_id);"
   ]
  },
  {
   "cell_type": "code",
   "execution_count": 11,
   "metadata": {},
   "outputs": [
    {
     "name": "stdout",
     "output_type": "stream",
     "text": [
      " * sqlite:///CourseDataWarehouse.db\n",
      "0 rows affected.\n",
      "207 rows affected.\n"
     ]
    },
    {
     "data": {
      "text/plain": [
       "[]"
      ]
     },
     "execution_count": 11,
     "metadata": {},
     "output_type": "execute_result"
    }
   ],
   "source": [
    "%%sql\n",
    "\n",
    "DELETE FROM CLASSLOCATIONS;\n",
    "INSERT INTO CLASSLOCATIONS (location_code, building, room_number)\n",
    "SELECT DISTINCT\n",
    "    location_code, \n",
    "    SUBSTR(location_code,1,3), \n",
    "    SUBSTR(location_code, INSTR(location_code, \" \"),LENGTH(location_code) - LENGTH(INSTR(location_code, \" \")))\n",
    "FROM OGDB.LOCATIONS;"
   ]
  },
  {
   "cell_type": "code",
   "execution_count": 12,
   "metadata": {},
   "outputs": [
    {
     "name": "stdout",
     "output_type": "stream",
     "text": [
      " * sqlite:///CourseDataWarehouse.db\n",
      "0 rows affected.\n",
      "1095 rows affected.\n"
     ]
    },
    {
     "data": {
      "text/plain": [
       "[]"
      ]
     },
     "execution_count": 12,
     "metadata": {},
     "output_type": "execute_result"
    }
   ],
   "source": [
    "%%sql\n",
    "\n",
    "DELETE FROM CLASSINSTRUCTORS;\n",
    "INSERT INTO CLASSINSTRUCTORS (instructor_id, instructor_name)\n",
    "SELECT DISTINCT instructor_id, instructor_name\n",
    "FROM OGDB.INSTRUCTORS;"
   ]
  },
  {
   "cell_type": "code",
   "execution_count": 13,
   "metadata": {},
   "outputs": [
    {
     "name": "stdout",
     "output_type": "stream",
     "text": [
      " * sqlite:///CourseDataWarehouse.db\n",
      "0 rows affected.\n",
      "83 rows affected.\n"
     ]
    },
    {
     "data": {
      "text/plain": [
       "[]"
      ]
     },
     "execution_count": 13,
     "metadata": {},
     "output_type": "execute_result"
    }
   ],
   "source": [
    "%%sql\n",
    "\n",
    "DELETE FROM CLASSPROGRAMS;\n",
    "INSERT INTO CLASSPROGRAMS (program_code, program_name)\n",
    "SELECT DISTINCT program_code, program_name\n",
    "FROM OGDB.PROGRAMS;"
   ]
  },
  {
   "cell_type": "code",
   "execution_count": null,
   "metadata": {},
   "outputs": [],
   "source": []
  },
  {
   "cell_type": "code",
   "execution_count": null,
   "metadata": {},
   "outputs": [],
   "source": []
  },
  {
   "cell_type": "code",
   "execution_count": null,
   "metadata": {},
   "outputs": [],
   "source": []
  },
  {
   "cell_type": "code",
   "execution_count": null,
   "metadata": {},
   "outputs": [],
   "source": []
  }
 ],
 "metadata": {
  "kernelspec": {
   "display_name": "Python 3",
   "language": "python",
   "name": "python3"
  },
  "language_info": {
   "codemirror_mode": {
    "name": "ipython",
    "version": 3
   },
   "file_extension": ".py",
   "mimetype": "text/x-python",
   "name": "python",
   "nbconvert_exporter": "python",
   "pygments_lexer": "ipython3",
   "version": "3.6.7"
  }
 },
 "nbformat": 4,
 "nbformat_minor": 4
}
