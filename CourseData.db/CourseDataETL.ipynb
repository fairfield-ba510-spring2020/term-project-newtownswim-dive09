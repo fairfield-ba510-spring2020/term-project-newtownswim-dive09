{
 "cells": [
  {
   "cell_type": "code",
   "execution_count": 1,
   "metadata": {},
   "outputs": [],
   "source": [
    "%load_ext sql"
   ]
  },
  {
   "cell_type": "markdown",
   "metadata": {},
   "source": [
    "## Crea"
   ]
  },
  {
   "cell_type": "code",
   "execution_count": 2,
   "metadata": {},
   "outputs": [
    {
     "data": {
      "text/plain": [
       "'Connected: @CourseData.db'"
      ]
     },
     "execution_count": 2,
     "metadata": {},
     "output_type": "execute_result"
    }
   ],
   "source": [
    "%sql sqlite:///CourseData.db "
   ]
  },
  {
   "cell_type": "code",
   "execution_count": 18,
   "metadata": {},
   "outputs": [
    {
     "name": "stdout",
     "output_type": "stream",
     "text": [
      " * sqlite:///CourseData.db\n",
      "Done.\n",
      "Done.\n",
      "Done.\n",
      "Done.\n",
      "Done.\n",
      "Done.\n",
      "Done.\n",
      "Done.\n",
      "Done.\n",
      "Done.\n",
      "Done.\n",
      "Done.\n",
      "Done.\n",
      "Done.\n"
     ]
    },
    {
     "data": {
      "text/plain": [
       "[]"
      ]
     },
     "execution_count": 18,
     "metadata": {},
     "output_type": "execute_result"
    }
   ],
   "source": [
    "%%sql\n",
    "DROP TABLE IF EXISTS CATALOGCOURSE;\n",
    "CREATE TABLE CATALOGCOURSE (\n",
    "    catalog_id INTEGER PRIMARY KEY,\n",
    "    course_title TEXT NOT NULL,\n",
    "    credits INTEGER,\n",
    "    prereqs TEXT,\n",
    "    coreqs TEXT,\n",
    "    fees INTEGER,\n",
    "    attributes TEXT,\n",
    "    description TEXT,\n",
    "    program_code TEXT,\n",
    "    term_code INTEGER\n",
    ");\n",
    "\n",
    "DROP TABLE IF EXISTS TERMS;\n",
    "CREATE TABLE TERMS (\n",
    "    term_code INTEGER PRIMARY KEY,\n",
    "    term TEXT NOT NULL,\n",
    "    FOREIGN KEY (term_code) REFERENCES CATALOGCOURSE (term_code)\n",
    ");\n",
    "\n",
    "DROP TABLE IF EXISTS SECTION;\n",
    "CREATE TABLE SECTION (\n",
    "    crn INTEGER PRIMARY KEY,\n",
    "    title TEXT,\n",
    "    section TEXT,\n",
    "    credits INTERGER,\n",
    "    cap INTEGER,\n",
    "    act INTEGER,\n",
    "    remaining INTEGER,\n",
    "    time_codes TEXT,\n",
    "    catalog_id INTEGER,\n",
    "    instructor_id INTEGER,\n",
    "    FOREIGN KEY (catalog_id) REFERENCES CATALOGCOURSE (catalog_id)\n",
    ");\n",
    "\n",
    "DROP TABLE IF EXISTS SECTIONMEETINGS;\n",
    "CREATE TABLE SECTIONMEETINGS (\n",
    "    crn INTEGER,\n",
    "    start TEXT,\n",
    "    end TEXT,\n",
    "    day TEXT,\n",
    "    location_code INTGER,\n",
    "    FOREIGN KEY (crn) REFERENCES SECTION (crn)\n",
    ");\n",
    "\n",
    "DROP TABLE IF EXISTS LOCATIONS;\n",
    "CREATE TABLE LOCATIONS (\n",
    "    location_code INTEGER PRIMARY KEY,\n",
    "    building TEXT,\n",
    "    room_number INTEGER,\n",
    "    FOREIGN KEY (location_code) REFERENCES SECTIONMEETINGS (location_code)\n",
    ");\n",
    "\n",
    "DROP TABLE IF EXISTS INSTRUCTORS;\n",
    "CREATE TABLE INSTRUCTORS (\n",
    "    instructor_id INTEGER PRIMARY KEY,\n",
    "    instructor_name TEXT,\n",
    "    FOREIGN KEY (instructor_id) REFERENCES SECTION (instructor_id)\n",
    ");\n",
    "\n",
    "DROP TABLE IF EXISTS PROGRAMS;\n",
    "CREATE TABLE PROGRAMS (\n",
    "    program_code TEXT PRIMARY KEY,\n",
    "    program_name TEXT,\n",
    "    FOREIGN KEY (program_code) REFERENCES CATALOGCOURSE (program_code)\n",
    ");"
   ]
  },
  {
   "cell_type": "code",
   "execution_count": null,
   "metadata": {},
   "outputs": [],
   "source": []
  },
  {
   "cell_type": "code",
   "execution_count": null,
   "metadata": {},
   "outputs": [],
   "source": []
  },
  {
   "cell_type": "code",
   "execution_count": null,
   "metadata": {},
   "outputs": [],
   "source": []
  }
 ],
 "metadata": {
  "kernelspec": {
   "display_name": "Python 3",
   "language": "python",
   "name": "python3"
  },
  "language_info": {
   "codemirror_mode": {
    "name": "ipython",
    "version": 3
   },
   "file_extension": ".py",
   "mimetype": "text/x-python",
   "name": "python",
   "nbconvert_exporter": "python",
   "pygments_lexer": "ipython3",
   "version": "3.6.7"
  }
 },
 "nbformat": 4,
 "nbformat_minor": 4
}
