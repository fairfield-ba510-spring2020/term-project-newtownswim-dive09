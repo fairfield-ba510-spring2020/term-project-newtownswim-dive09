{
 "cells": [
  {
   "cell_type": "code",
   "execution_count": 2,
   "metadata": {},
   "outputs": [],
   "source": [
    "%load_ext sql\n",
    "import pandas as pd\n",
    "import sqlite3"
   ]
  },
  {
   "cell_type": "code",
   "execution_count": 25,
   "metadata": {},
   "outputs": [],
   "source": []
  },
  {
   "cell_type": "markdown",
   "metadata": {},
   "source": [
    "## Create the Database"
   ]
  },
  {
   "cell_type": "code",
   "execution_count": 3,
   "metadata": {},
   "outputs": [],
   "source": [
    "%sql sqlite:///CourseData.db \n",
    "conn = sqlite3.connect('CourseData.db')"
   ]
  },
  {
   "cell_type": "markdown",
   "metadata": {},
   "source": [
    "Add all tables to Database and connect them"
   ]
  },
  {
   "cell_type": "code",
   "execution_count": 4,
   "metadata": {},
   "outputs": [
    {
     "name": "stdout",
     "output_type": "stream",
     "text": [
      " * sqlite:///CourseData.db\n",
      "Done.\n",
      "Done.\n",
      "Done.\n",
      "Done.\n",
      "Done.\n",
      "Done.\n",
      "Done.\n",
      "Done.\n",
      "Done.\n",
      "Done.\n",
      "Done.\n",
      "Done.\n",
      "Done.\n",
      "Done.\n"
     ]
    },
    {
     "data": {
      "text/plain": [
       "[]"
      ]
     },
     "execution_count": 4,
     "metadata": {},
     "output_type": "execute_result"
    }
   ],
   "source": [
    "%%sql\n",
    "DROP TABLE IF EXISTS CATALOGCOURSE;\n",
    "CREATE TABLE CATALOGCOURSE (\n",
    "    catalog_id TEXT NOT NULL PRIMARY KEY,\n",
    "    course_title TEXT NOT NULL,\n",
    "    credits INTEGER,\n",
    "    prereqs TEXT,\n",
    "    coreqs TEXT,\n",
    "    fees INTEGER,\n",
    "    attributes TEXT,\n",
    "    description TEXT,\n",
    "    program_code TEXT NOT NULL,\n",
    "    term_code INTEGER NOT NULL\n",
    ");\n",
    "\n",
    "DROP TABLE IF EXISTS TERMS;\n",
    "CREATE TABLE TERMS (\n",
    "    term_code INTEGER PRIMARY KEY,\n",
    "    term TEXT NOT NULL,\n",
    "    FOREIGN KEY (term_code) REFERENCES CATALOGCOURSE (term_code)\n",
    ");\n",
    "\n",
    "DROP TABLE IF EXISTS SECTION;\n",
    "CREATE TABLE SECTION (\n",
    "    crn INTEGER PRIMARY KEY,\n",
    "    title TEXT,\n",
    "    section TEXT,\n",
    "    credits INTERGER,\n",
    "    cap INTEGER,\n",
    "    act INTEGER,\n",
    "    remaining INTEGER,\n",
    "    time_codes TEXT,\n",
    "    catalog_id TEXT NOT NULL,\n",
    "    instructor_id INTEGER NOT NULL,\n",
    "    FOREIGN KEY (catalog_id) REFERENCES CATALOGCOURSE (catalog_id)\n",
    ");\n",
    "\n",
    "DROP TABLE IF EXISTS SECTIONMEETINGS;\n",
    "CREATE TABLE SECTIONMEETINGS (\n",
    "    crn INTEGER,\n",
    "    start TEXT,\n",
    "    end TEXT,\n",
    "    day TEXT,\n",
    "    location_code INTGER,\n",
    "    FOREIGN KEY (crn) REFERENCES SECTION (crn)\n",
    ");\n",
    "\n",
    "DROP TABLE IF EXISTS LOCATIONS;\n",
    "CREATE TABLE LOCATIONS (\n",
    "    location_code INTEGER PRIMARY KEY,\n",
    "    building TEXT,\n",
    "    room_number INTEGER,\n",
    "    FOREIGN KEY (location_code) REFERENCES SECTIONMEETINGS (location_code)\n",
    ");\n",
    "\n",
    "DROP TABLE IF EXISTS INSTRUCTORS;\n",
    "CREATE TABLE INSTRUCTORS (\n",
    "    instructor_id INTEGER NOT NULL PRIMARY KEY,\n",
    "    instructor_name TEXT NOT NULL,\n",
    "    FOREIGN KEY (instructor_id) REFERENCES SECTION (instructor_id)\n",
    ");\n",
    "\n",
    "DROP TABLE IF EXISTS PROGRAMS;\n",
    "CREATE TABLE PROGRAMS (\n",
    "    program_code TEXT NOT NULL PRIMARY KEY,\n",
    "    program_name TEXT NOT NULL,\n",
    "    FOREIGN KEY (program_code) REFERENCES CATALOGCOURSE (program_code)\n",
    ");"
   ]
  },
  {
   "cell_type": "markdown",
   "metadata": {},
   "source": [
    "Import Data into the Database from Catalogs"
   ]
  },
  {
   "cell_type": "code",
   "execution_count": 7,
   "metadata": {},
   "outputs": [],
   "source": [
    "catalog_years = ['2017_2018', '2018_2019']\n",
    "\n",
    "for cat_year in catalog_years:\n",
    "    filepath = 'SourceData/Catalogs/CourseCatalog'+cat_year+'.csv'\n",
    "    data = pd.read_csv(filepath)\n",
    "    data['cat_year'] = cat_year\n",
    "    data.to_sql('IMPORT_CATALOGCOURSE',conn,if_exists='append',index=False)"
   ]
  },
  {
   "cell_type": "code",
   "execution_count": 12,
   "metadata": {},
   "outputs": [],
   "source": [
    "terms = ['Fall2014','Fall2015','Fall2016','Fall2017','Fall2018',\n",
    "         'Spring2015','Spring2016','Spring2017','Spring2018','Spring2019',\n",
    "         'SpringBreak2017',\n",
    "         'Summer2015','Summer2016','Summer2017','Summer2018',\n",
    "         'Winter2015','Winter2016','Winter2017','Winter2018']\n",
    "\n",
    "for term in terms:\n",
    "    filepath = 'SourceData/'+term+'/courses.csv'\n",
    "    data = pd.read_csv(filepath)\n",
    "    data.to_sql('IMPORT_SECTION',conn,if_exists='append',index=False) \n",
    "    \n",
    "    filepath = 'SourceData/'+term+'/course_meetings.csv'\n",
    "    data = pd.read_csv(filepath)\n",
    "    data.to_sql('IMPORT_SECTIONMEETINGS',conn,if_exists='append',index=False)"
   ]
  },
  {
   "cell_type": "code",
   "execution_count": 10,
   "metadata": {},
   "outputs": [
    {
     "name": "stdout",
     "output_type": "stream",
     "text": [
      " * sqlite:///CourseData.db\n",
      "Done.\n"
     ]
    },
    {
     "data": {
      "text/html": [
       "<table>\n",
       "    <tr>\n",
       "        <th>RawCount</th>\n",
       "        <th>DistinctCount</th>\n",
       "    </tr>\n",
       "    <tr>\n",
       "        <td>4440</td>\n",
       "        <td>4440</td>\n",
       "    </tr>\n",
       "</table>"
      ],
      "text/plain": [
       "[(4440, 4440)]"
      ]
     },
     "execution_count": 10,
     "metadata": {},
     "output_type": "execute_result"
    }
   ],
   "source": [
    "%%sql\n",
    "-- Record Counts for Catalog Courses\n",
    "SELECT \n",
    "    (SELECT Count(*) FROM IMPORT_CATALOGCOURSE) as 'RawCount',\n",
    "    (SELECT Count(*) FROM (SELECT DISTINCT * FROM IMPORT_CATALOGCOURSE)) as 'DistinctCount';"
   ]
  },
  {
   "cell_type": "code",
   "execution_count": 9,
   "metadata": {},
   "outputs": [
    {
     "name": "stdout",
     "output_type": "stream",
     "text": [
      " * sqlite:///CourseData.db\n",
      "Done.\n"
     ]
    },
    {
     "data": {
      "text/html": [
       "<table>\n",
       "    <tr>\n",
       "        <th>RawCount</th>\n",
       "        <th>DistinctCount</th>\n",
       "    </tr>\n",
       "    <tr>\n",
       "        <td>15937</td>\n",
       "        <td>15937</td>\n",
       "    </tr>\n",
       "</table>"
      ],
      "text/plain": [
       "[(15937, 15937)]"
      ]
     },
     "execution_count": 9,
     "metadata": {},
     "output_type": "execute_result"
    }
   ],
   "source": [
    "%%sql\n",
    "-- Record Counts for Sections\n",
    "SELECT \n",
    "    (SELECT Count(*) FROM IMPORT_SECTION) as 'RawCount',\n",
    "    (SELECT Count(*) FROM (SELECT DISTINCT * FROM IMPORT_SECTION)) as 'DistinctCount';"
   ]
  },
  {
   "cell_type": "code",
   "execution_count": 13,
   "metadata": {},
   "outputs": [
    {
     "name": "stdout",
     "output_type": "stream",
     "text": [
      " * sqlite:///CourseData.db\n",
      "Done.\n"
     ]
    },
    {
     "data": {
      "text/html": [
       "<table>\n",
       "    <tr>\n",
       "        <th>RawCount</th>\n",
       "        <th>DistinctCount</th>\n",
       "    </tr>\n",
       "    <tr>\n",
       "        <td>284907</td>\n",
       "        <td>284847</td>\n",
       "    </tr>\n",
       "</table>"
      ],
      "text/plain": [
       "[(284907, 284847)]"
      ]
     },
     "execution_count": 13,
     "metadata": {},
     "output_type": "execute_result"
    }
   ],
   "source": [
    "%%sql\n",
    "-- Record Counts for Section Meetings\n",
    "SELECT \n",
    "    (SELECT Count(*) FROM IMPORT_SECTIONMEETINGS) as 'RawCount',\n",
    "    (SELECT Count(*) FROM (SELECT DISTINCT * FROM IMPORT_SECTIONMEETINGS)) as 'DistinctCount';"
   ]
  },
  {
   "cell_type": "code",
   "execution_count": null,
   "metadata": {},
   "outputs": [],
   "source": []
  }
 ],
 "metadata": {
  "kernelspec": {
   "display_name": "Python 3",
   "language": "python",
   "name": "python3"
  },
  "language_info": {
   "codemirror_mode": {
    "name": "ipython",
    "version": 3
   },
   "file_extension": ".py",
   "mimetype": "text/x-python",
   "name": "python",
   "nbconvert_exporter": "python",
   "pygments_lexer": "ipython3",
   "version": "3.6.7"
  }
 },
 "nbformat": 4,
 "nbformat_minor": 4
}
