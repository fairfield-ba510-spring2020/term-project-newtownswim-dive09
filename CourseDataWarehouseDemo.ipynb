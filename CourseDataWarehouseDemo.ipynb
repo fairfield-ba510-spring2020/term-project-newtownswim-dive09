{
 "cells": [
  {
   "cell_type": "markdown",
   "metadata": {},
   "source": [
    "## Warehouse Demo"
   ]
  },
  {
   "cell_type": "code",
   "execution_count": 3,
   "metadata": {},
   "outputs": [
    {
     "name": "stdout",
     "output_type": "stream",
     "text": [
      "The sql extension is already loaded. To reload it, use:\n",
      "  %reload_ext sql\n"
     ]
    }
   ],
   "source": [
    "%load_ext sql\n",
    "import pandas as pd\n",
    "import sqlite3"
   ]
  },
  {
   "cell_type": "code",
   "execution_count": 8,
   "metadata": {},
   "outputs": [],
   "source": [
    "%sql sqlite:///CourseDataWarehouse.db \n",
    "conn = sqlite3.connect('CourseDataWarehouse.db')"
   ]
  },
  {
   "cell_type": "markdown",
   "metadata": {},
   "source": [
    "Search for Classes taught by Professor Huntley in Fall of 2017"
   ]
  },
  {
   "cell_type": "code",
   "execution_count": 19,
   "metadata": {},
   "outputs": [
    {
     "name": "stdout",
     "output_type": "stream",
     "text": [
      "   sqlite:///CourseData.db\n",
      " * sqlite:///CourseDataWarehouse.db\n",
      "Done.\n"
     ]
    },
    {
     "data": {
      "text/html": [
       "<table>\n",
       "    <tr>\n",
       "        <th>crn</th>\n",
       "        <th>location_code</th>\n",
       "        <th>program_code</th>\n",
       "        <th>catalog_id</th>\n",
       "        <th>title</th>\n",
       "        <th>instructor_id</th>\n",
       "        <th>instructor_name</th>\n",
       "        <th>program_name</th>\n",
       "    </tr>\n",
       "    <tr>\n",
       "        <td>71153</td>\n",
       "        <td>DSB 110A</td>\n",
       "        <td>IS</td>\n",
       "        <td>IS 0240</td>\n",
       "        <td>Systems Analysis and Logical Design</td>\n",
       "        <td>272</td>\n",
       "        <td>Christopher L.  Huntley</td>\n",
       "        <td>Information Systems</td>\n",
       "    </tr>\n",
       "    <tr>\n",
       "        <td>73088</td>\n",
       "        <td>None</td>\n",
       "        <td>IS</td>\n",
       "        <td>IS 0399</td>\n",
       "        <td>Independent Study</td>\n",
       "        <td>272</td>\n",
       "        <td>Christopher L.  Huntley</td>\n",
       "        <td>Information Systems</td>\n",
       "    </tr>\n",
       "    <tr>\n",
       "        <td>72913</td>\n",
       "        <td>DSB 115</td>\n",
       "        <td>IS</td>\n",
       "        <td>IS 0505</td>\n",
       "        <td>Python for Business Analytics</td>\n",
       "        <td>272</td>\n",
       "        <td>Christopher L.  Huntley</td>\n",
       "        <td>Information Systems</td>\n",
       "    </tr>\n",
       "    <tr>\n",
       "        <td>72914</td>\n",
       "        <td>DSB 115</td>\n",
       "        <td>IS</td>\n",
       "        <td>IS 0510</td>\n",
       "        <td>Databases for Business Analytics</td>\n",
       "        <td>272</td>\n",
       "        <td>Christopher L.  Huntley</td>\n",
       "        <td>Information Systems</td>\n",
       "    </tr>\n",
       "</table>"
      ],
      "text/plain": [
       "[(71153, 'DSB 110A', 'IS', 'IS 0240', 'Systems Analysis and Logical Design', 272, 'Christopher L.  Huntley', 'Information Systems'),\n",
       " (73088, None, 'IS', 'IS 0399', 'Independent Study', 272, 'Christopher L.  Huntley', 'Information Systems'),\n",
       " (72913, 'DSB 115', 'IS', 'IS 0505', 'Python for Business Analytics', 272, 'Christopher L.  Huntley', 'Information Systems'),\n",
       " (72914, 'DSB 115', 'IS', 'IS 0510', 'Databases for Business Analytics', 272, 'Christopher L.  Huntley', 'Information Systems')]"
      ]
     },
     "execution_count": 19,
     "metadata": {},
     "output_type": "execute_result"
    }
   ],
   "source": [
    "%%sql\n",
    "SELECT cm.crn, cm.location_code, cm.program_code, cm.catalog_id, cm.title, i.instructor_id, i.instructor_name, cp.program_name\n",
    "FROM CLASSMEETINGS cm\n",
    "JOIN CLASSPROGRAMS cp USING (program_code)\n",
    "JOIN CLASSINSTRUCTORS i USING (instructor_id)\n",
    "WHERE instructor_name LIKE '%Huntley' AND term = 'Fall2017';"
   ]
  },
  {
   "cell_type": "code",
   "execution_count": null,
   "metadata": {},
   "outputs": [],
   "source": []
  }
 ],
 "metadata": {
  "kernelspec": {
   "display_name": "Python 3",
   "language": "python",
   "name": "python3"
  },
  "language_info": {
   "codemirror_mode": {
    "name": "ipython",
    "version": 3
   },
   "file_extension": ".py",
   "mimetype": "text/x-python",
   "name": "python",
   "nbconvert_exporter": "python",
   "pygments_lexer": "ipython3",
   "version": "3.6.7"
  }
 },
 "nbformat": 4,
 "nbformat_minor": 4
}
