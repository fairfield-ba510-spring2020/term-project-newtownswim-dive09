{
 "cells": [
  {
   "cell_type": "code",
   "execution_count": 4,
   "metadata": {},
   "outputs": [
    {
     "name": "stdout",
     "output_type": "stream",
     "text": [
      "The sql extension is already loaded. To reload it, use:\n",
      "  %reload_ext sql\n"
     ]
    }
   ],
   "source": [
    "%load_ext sql\n",
    "import pandas as pd\n",
    "import sqlite3"
   ]
  },
  {
   "cell_type": "code",
   "execution_count": 5,
   "metadata": {},
   "outputs": [],
   "source": [
    "%sql sqlite:///CourseDataWarehouse.db \n",
    "conn = sqlite3.connect('CourseDataWarehouse.db')"
   ]
  },
  {
   "cell_type": "markdown",
   "metadata": {},
   "source": [
    "## Check For Entity Integirty"
   ]
  },
  {
   "cell_type": "code",
   "execution_count": 6,
   "metadata": {},
   "outputs": [
    {
     "name": "stdout",
     "output_type": "stream",
     "text": [
      " * sqlite:///CourseDataWarehouse.db\n",
      "Done.\n"
     ]
    },
    {
     "data": {
      "text/html": [
       "<table>\n",
       "    <tr>\n",
       "        <th>RawCount</th>\n",
       "        <th>DistinctCount</th>\n",
       "    </tr>\n",
       "    <tr>\n",
       "        <td>16289</td>\n",
       "        <td>16289</td>\n",
       "    </tr>\n",
       "</table>"
      ],
      "text/plain": [
       "[(16289, 16289)]"
      ]
     },
     "execution_count": 6,
     "metadata": {},
     "output_type": "execute_result"
    }
   ],
   "source": [
    "%%sql\n",
    "-- Record Counts for Class Meetings\n",
    "SELECT \n",
    "    (SELECT Count(*) FROM CLASSMEETINGS) as 'RawCount',\n",
    "    (SELECT Count(*) FROM (SELECT DISTINCT * FROM CLASSMEETINGS)) as 'DistinctCount';"
   ]
  },
  {
   "cell_type": "code",
   "execution_count": 7,
   "metadata": {},
   "outputs": [
    {
     "name": "stdout",
     "output_type": "stream",
     "text": [
      " * sqlite:///CourseDataWarehouse.db\n",
      "Done.\n"
     ]
    },
    {
     "data": {
      "text/html": [
       "<table>\n",
       "    <tr>\n",
       "        <th>RawCount</th>\n",
       "        <th>DistinctCount</th>\n",
       "    </tr>\n",
       "    <tr>\n",
       "        <td>19</td>\n",
       "        <td>19</td>\n",
       "    </tr>\n",
       "</table>"
      ],
      "text/plain": [
       "[(19, 19)]"
      ]
     },
     "execution_count": 7,
     "metadata": {},
     "output_type": "execute_result"
    }
   ],
   "source": [
    "%%sql\n",
    "-- Record Counts for Class Terms\n",
    "SELECT \n",
    "    (SELECT Count(*) FROM CLASSTERMS) as 'RawCount',\n",
    "    (SELECT Count(*) FROM (SELECT DISTINCT * FROM CLASSTERMS)) as 'DistinctCount';"
   ]
  },
  {
   "cell_type": "code",
   "execution_count": 8,
   "metadata": {},
   "outputs": [
    {
     "name": "stdout",
     "output_type": "stream",
     "text": [
      " * sqlite:///CourseDataWarehouse.db\n",
      "Done.\n"
     ]
    },
    {
     "data": {
      "text/html": [
       "<table>\n",
       "    <tr>\n",
       "        <th>RawCount</th>\n",
       "        <th>DistinctCount</th>\n",
       "    </tr>\n",
       "    <tr>\n",
       "        <td>272215</td>\n",
       "        <td>272215</td>\n",
       "    </tr>\n",
       "</table>"
      ],
      "text/plain": [
       "[(272215, 272215)]"
      ]
     },
     "execution_count": 8,
     "metadata": {},
     "output_type": "execute_result"
    }
   ],
   "source": [
    "%%sql\n",
    "-- Record Counts for Time Codes\n",
    "SELECT \n",
    "    (SELECT Count(*) FROM Time_Codes) as 'RawCount',\n",
    "    (SELECT Count(*) FROM (SELECT DISTINCT * FROM Time_Codes)) as 'DistinctCount';"
   ]
  },
  {
   "cell_type": "code",
   "execution_count": 9,
   "metadata": {},
   "outputs": [
    {
     "name": "stdout",
     "output_type": "stream",
     "text": [
      " * sqlite:///CourseDataWarehouse.db\n",
      "Done.\n"
     ]
    },
    {
     "data": {
      "text/html": [
       "<table>\n",
       "    <tr>\n",
       "        <th>RawCount</th>\n",
       "        <th>DistinctCount</th>\n",
       "    </tr>\n",
       "    <tr>\n",
       "        <td>207</td>\n",
       "        <td>207</td>\n",
       "    </tr>\n",
       "</table>"
      ],
      "text/plain": [
       "[(207, 207)]"
      ]
     },
     "execution_count": 9,
     "metadata": {},
     "output_type": "execute_result"
    }
   ],
   "source": [
    "%%sql\n",
    "-- Record Counts for Class Locations\n",
    "SELECT \n",
    "    (SELECT Count(*) FROM CLASSLOCATIONS) as 'RawCount',\n",
    "    (SELECT Count(*) FROM (SELECT DISTINCT * FROM CLASSLOCATIONS)) as 'DistinctCount';"
   ]
  },
  {
   "cell_type": "code",
   "execution_count": 10,
   "metadata": {},
   "outputs": [
    {
     "name": "stdout",
     "output_type": "stream",
     "text": [
      " * sqlite:///CourseDataWarehouse.db\n",
      "Done.\n"
     ]
    },
    {
     "data": {
      "text/html": [
       "<table>\n",
       "    <tr>\n",
       "        <th>RawCount</th>\n",
       "        <th>DistinctCount</th>\n",
       "    </tr>\n",
       "    <tr>\n",
       "        <td>1095</td>\n",
       "        <td>1095</td>\n",
       "    </tr>\n",
       "</table>"
      ],
      "text/plain": [
       "[(1095, 1095)]"
      ]
     },
     "execution_count": 10,
     "metadata": {},
     "output_type": "execute_result"
    }
   ],
   "source": [
    "%%sql\n",
    "-- Record Counts for Class Instructors\n",
    "SELECT \n",
    "    (SELECT Count(*) FROM CLASSINSTRUCTORS) as 'RawCount',\n",
    "    (SELECT Count(*) FROM (SELECT DISTINCT * FROM CLASSINSTRUCTORS)) as 'DistinctCount';"
   ]
  },
  {
   "cell_type": "code",
   "execution_count": 11,
   "metadata": {},
   "outputs": [
    {
     "name": "stdout",
     "output_type": "stream",
     "text": [
      " * sqlite:///CourseDataWarehouse.db\n",
      "Done.\n"
     ]
    },
    {
     "data": {
      "text/html": [
       "<table>\n",
       "    <tr>\n",
       "        <th>RawCount</th>\n",
       "        <th>DistinctCount</th>\n",
       "    </tr>\n",
       "    <tr>\n",
       "        <td>83</td>\n",
       "        <td>83</td>\n",
       "    </tr>\n",
       "</table>"
      ],
      "text/plain": [
       "[(83, 83)]"
      ]
     },
     "execution_count": 11,
     "metadata": {},
     "output_type": "execute_result"
    }
   ],
   "source": [
    "%%sql\n",
    "-- Record Counts for Class Programs\n",
    "SELECT \n",
    "    (SELECT Count(*) FROM CLASSPROGRAMS) as 'RawCount',\n",
    "    (SELECT Count(*) FROM (SELECT DISTINCT * FROM CLASSPROGRAMS)) as 'DistinctCount';"
   ]
  },
  {
   "cell_type": "markdown",
   "metadata": {},
   "source": [
    "## Check For Relational Integrity"
   ]
  },
  {
   "cell_type": "code",
   "execution_count": 22,
   "metadata": {},
   "outputs": [
    {
     "name": "stdout",
     "output_type": "stream",
     "text": [
      " * sqlite:///CourseDataWarehouse.db\n",
      "Done.\n"
     ]
    },
    {
     "data": {
      "text/html": [
       "<table>\n",
       "    <tr>\n",
       "        <th>crn</th>\n",
       "        <th>location_code</th>\n",
       "        <th>program_code</th>\n",
       "        <th>catalog_id</th>\n",
       "        <th>title</th>\n",
       "        <th>instructor_name</th>\n",
       "        <th>program_name</th>\n",
       "        <th>day</th>\n",
       "        <th>time_codes</th>\n",
       "        <th>building</th>\n",
       "        <th>term</th>\n",
       "    </tr>\n",
       "    <tr>\n",
       "        <td>70384</td>\n",
       "        <td>DSB 105</td>\n",
       "        <td>AC</td>\n",
       "        <td>AC 0011</td>\n",
       "        <td>Introduction to Financial Accounting</td>\n",
       "        <td>Michael P.  Coyne</td>\n",
       "        <td>Accounting</td>\n",
       "        <td>F</td>\n",
       "        <td>[&#x27;TF 0800am-0915am 09/02-12/08 DSB 105&#x27;]</td>\n",
       "        <td>DSB</td>\n",
       "        <td>Fall2014</td>\n",
       "    </tr>\n",
       "    <tr>\n",
       "        <td>70384</td>\n",
       "        <td>DSB 105</td>\n",
       "        <td>AC</td>\n",
       "        <td>AC 0011</td>\n",
       "        <td>Introduction to Financial Accounting</td>\n",
       "        <td>Michael P.  Coyne</td>\n",
       "        <td>Accounting</td>\n",
       "        <td>T</td>\n",
       "        <td>[&#x27;TF 0800am-0915am 09/02-12/08 DSB 105&#x27;]</td>\n",
       "        <td>DSB</td>\n",
       "        <td>Fall2014</td>\n",
       "    </tr>\n",
       "    <tr>\n",
       "        <td>70385</td>\n",
       "        <td>DSB 105</td>\n",
       "        <td>AC</td>\n",
       "        <td>AC 0011</td>\n",
       "        <td>Introduction to Financial Accounting</td>\n",
       "        <td>Michael P.  Coyne</td>\n",
       "        <td>Accounting</td>\n",
       "        <td>F</td>\n",
       "        <td>[&#x27;TF 0930am-1045am 09/02-12/08 DSB 105&#x27;]</td>\n",
       "        <td>DSB</td>\n",
       "        <td>Fall2014</td>\n",
       "    </tr>\n",
       "    <tr>\n",
       "        <td>70385</td>\n",
       "        <td>DSB 105</td>\n",
       "        <td>AC</td>\n",
       "        <td>AC 0011</td>\n",
       "        <td>Introduction to Financial Accounting</td>\n",
       "        <td>Michael P.  Coyne</td>\n",
       "        <td>Accounting</td>\n",
       "        <td>T</td>\n",
       "        <td>[&#x27;TF 0930am-1045am 09/02-12/08 DSB 105&#x27;]</td>\n",
       "        <td>DSB</td>\n",
       "        <td>Fall2014</td>\n",
       "    </tr>\n",
       "    <tr>\n",
       "        <td>70382</td>\n",
       "        <td>DSB 105</td>\n",
       "        <td>AC</td>\n",
       "        <td>AC 0011</td>\n",
       "        <td>Introduction to Financial Accounting</td>\n",
       "        <td>Michael P.  Coyne</td>\n",
       "        <td>Accounting</td>\n",
       "        <td>F</td>\n",
       "        <td>[&#x27;TF 1230pm-0145pm 09/02-12/08 DSB 105&#x27;]</td>\n",
       "        <td>DSB</td>\n",
       "        <td>Fall2014</td>\n",
       "    </tr>\n",
       "    <tr>\n",
       "        <td>70382</td>\n",
       "        <td>DSB 105</td>\n",
       "        <td>AC</td>\n",
       "        <td>AC 0011</td>\n",
       "        <td>Introduction to Financial Accounting</td>\n",
       "        <td>Michael P.  Coyne</td>\n",
       "        <td>Accounting</td>\n",
       "        <td>T</td>\n",
       "        <td>[&#x27;TF 1230pm-0145pm 09/02-12/08 DSB 105&#x27;]</td>\n",
       "        <td>DSB</td>\n",
       "        <td>Fall2014</td>\n",
       "    </tr>\n",
       "    <tr>\n",
       "        <td>70291</td>\n",
       "        <td>DSB 111</td>\n",
       "        <td>AC</td>\n",
       "        <td>AC 0011</td>\n",
       "        <td>Introduction to Financial Accounting</td>\n",
       "        <td>Rebecca I.  Bloch</td>\n",
       "        <td>Accounting</td>\n",
       "        <td>M</td>\n",
       "        <td>[&#x27;MR 1100am-1215pm 09/02-12/08 DSB 111&#x27;]</td>\n",
       "        <td>DSB</td>\n",
       "        <td>Fall2014</td>\n",
       "    </tr>\n",
       "    <tr>\n",
       "        <td>70291</td>\n",
       "        <td>DSB 111</td>\n",
       "        <td>AC</td>\n",
       "        <td>AC 0011</td>\n",
       "        <td>Introduction to Financial Accounting</td>\n",
       "        <td>Rebecca I.  Bloch</td>\n",
       "        <td>Accounting</td>\n",
       "        <td>R</td>\n",
       "        <td>[&#x27;MR 1100am-1215pm 09/02-12/08 DSB 111&#x27;]</td>\n",
       "        <td>DSB</td>\n",
       "        <td>Fall2014</td>\n",
       "    </tr>\n",
       "    <tr>\n",
       "        <td>70350</td>\n",
       "        <td>DSB 111</td>\n",
       "        <td>AC</td>\n",
       "        <td>AC 0011</td>\n",
       "        <td>Introduction to Financial Accounting</td>\n",
       "        <td>Rebecca I.  Bloch</td>\n",
       "        <td>Accounting</td>\n",
       "        <td>M</td>\n",
       "        <td>[&#x27;MR 1230pm-0145pm 09/02-12/08 DSB 111&#x27;]</td>\n",
       "        <td>DSB</td>\n",
       "        <td>Fall2014</td>\n",
       "    </tr>\n",
       "    <tr>\n",
       "        <td>70350</td>\n",
       "        <td>DSB 111</td>\n",
       "        <td>AC</td>\n",
       "        <td>AC 0011</td>\n",
       "        <td>Introduction to Financial Accounting</td>\n",
       "        <td>Rebecca I.  Bloch</td>\n",
       "        <td>Accounting</td>\n",
       "        <td>R</td>\n",
       "        <td>[&#x27;MR 1230pm-0145pm 09/02-12/08 DSB 111&#x27;]</td>\n",
       "        <td>DSB</td>\n",
       "        <td>Fall2014</td>\n",
       "    </tr>\n",
       "</table>"
      ],
      "text/plain": [
       "[(70384, 'DSB 105', 'AC', 'AC 0011', 'Introduction to Financial Accounting', 'Michael P.  Coyne', 'Accounting', 'F', \"['TF 0800am-0915am 09/02-12/08 DSB 105']\", 'DSB', 'Fall2014'),\n",
       " (70384, 'DSB 105', 'AC', 'AC 0011', 'Introduction to Financial Accounting', 'Michael P.  Coyne', 'Accounting', 'T', \"['TF 0800am-0915am 09/02-12/08 DSB 105']\", 'DSB', 'Fall2014'),\n",
       " (70385, 'DSB 105', 'AC', 'AC 0011', 'Introduction to Financial Accounting', 'Michael P.  Coyne', 'Accounting', 'F', \"['TF 0930am-1045am 09/02-12/08 DSB 105']\", 'DSB', 'Fall2014'),\n",
       " (70385, 'DSB 105', 'AC', 'AC 0011', 'Introduction to Financial Accounting', 'Michael P.  Coyne', 'Accounting', 'T', \"['TF 0930am-1045am 09/02-12/08 DSB 105']\", 'DSB', 'Fall2014'),\n",
       " (70382, 'DSB 105', 'AC', 'AC 0011', 'Introduction to Financial Accounting', 'Michael P.  Coyne', 'Accounting', 'F', \"['TF 1230pm-0145pm 09/02-12/08 DSB 105']\", 'DSB', 'Fall2014'),\n",
       " (70382, 'DSB 105', 'AC', 'AC 0011', 'Introduction to Financial Accounting', 'Michael P.  Coyne', 'Accounting', 'T', \"['TF 1230pm-0145pm 09/02-12/08 DSB 105']\", 'DSB', 'Fall2014'),\n",
       " (70291, 'DSB 111', 'AC', 'AC 0011', 'Introduction to Financial Accounting', 'Rebecca I.  Bloch', 'Accounting', 'M', \"['MR 1100am-1215pm 09/02-12/08 DSB 111']\", 'DSB', 'Fall2014'),\n",
       " (70291, 'DSB 111', 'AC', 'AC 0011', 'Introduction to Financial Accounting', 'Rebecca I.  Bloch', 'Accounting', 'R', \"['MR 1100am-1215pm 09/02-12/08 DSB 111']\", 'DSB', 'Fall2014'),\n",
       " (70350, 'DSB 111', 'AC', 'AC 0011', 'Introduction to Financial Accounting', 'Rebecca I.  Bloch', 'Accounting', 'M', \"['MR 1230pm-0145pm 09/02-12/08 DSB 111']\", 'DSB', 'Fall2014'),\n",
       " (70350, 'DSB 111', 'AC', 'AC 0011', 'Introduction to Financial Accounting', 'Rebecca I.  Bloch', 'Accounting', 'R', \"['MR 1230pm-0145pm 09/02-12/08 DSB 111']\", 'DSB', 'Fall2014')]"
      ]
     },
     "execution_count": 22,
     "metadata": {},
     "output_type": "execute_result"
    }
   ],
   "source": [
    "%%sql\n",
    "SELECT DISTINCT cm.crn, cm.location_code, cm.program_code, cm.catalog_id, cm.title, i.instructor_name, cp.program_name, tc.day, tc.time_codes, cl.building, ct.term\n",
    "FROM CLASSMEETINGS cm\n",
    "JOIN CLASSPROGRAMS cp USING (program_code)\n",
    "JOIN CLASSINSTRUCTORS i USING (instructor_id)\n",
    "JOIN TIME_CODES tc USING(time_codes)\n",
    "JOIN CLASSLOCATIONS cl USING(location_code)\n",
    "JOIN CLASSTERMS ct USING(term)\n",
    "LIMIT 10;"
   ]
  },
  {
   "cell_type": "code",
   "execution_count": 21,
   "metadata": {},
   "outputs": [
    {
     "name": "stdout",
     "output_type": "stream",
     "text": [
      " * sqlite:///CourseDataWarehouse.db\n",
      "Done.\n"
     ]
    },
    {
     "data": {
      "text/html": [
       "<table>\n",
       "    <tr>\n",
       "        <th>term_code</th>\n",
       "        <th>term</th>\n",
       "    </tr>\n",
       "    <tr>\n",
       "        <td>1</td>\n",
       "        <td>Fall2014</td>\n",
       "    </tr>\n",
       "    <tr>\n",
       "        <td>2</td>\n",
       "        <td>Fall2015</td>\n",
       "    </tr>\n",
       "    <tr>\n",
       "        <td>3</td>\n",
       "        <td>Fall2016</td>\n",
       "    </tr>\n",
       "    <tr>\n",
       "        <td>4</td>\n",
       "        <td>Fall2017</td>\n",
       "    </tr>\n",
       "    <tr>\n",
       "        <td>5</td>\n",
       "        <td>Fall2018</td>\n",
       "    </tr>\n",
       "    <tr>\n",
       "        <td>6</td>\n",
       "        <td>Spring2015</td>\n",
       "    </tr>\n",
       "    <tr>\n",
       "        <td>7</td>\n",
       "        <td>Spring2016</td>\n",
       "    </tr>\n",
       "    <tr>\n",
       "        <td>8</td>\n",
       "        <td>Spring2017</td>\n",
       "    </tr>\n",
       "    <tr>\n",
       "        <td>9</td>\n",
       "        <td>Spring2018</td>\n",
       "    </tr>\n",
       "    <tr>\n",
       "        <td>10</td>\n",
       "        <td>Spring2019</td>\n",
       "    </tr>\n",
       "    <tr>\n",
       "        <td>11</td>\n",
       "        <td>SpringBreak2017</td>\n",
       "    </tr>\n",
       "    <tr>\n",
       "        <td>12</td>\n",
       "        <td>Summer2015</td>\n",
       "    </tr>\n",
       "    <tr>\n",
       "        <td>13</td>\n",
       "        <td>Summer2016</td>\n",
       "    </tr>\n",
       "    <tr>\n",
       "        <td>14</td>\n",
       "        <td>Summer2017</td>\n",
       "    </tr>\n",
       "    <tr>\n",
       "        <td>15</td>\n",
       "        <td>Summer2018</td>\n",
       "    </tr>\n",
       "    <tr>\n",
       "        <td>16</td>\n",
       "        <td>Winter2015</td>\n",
       "    </tr>\n",
       "    <tr>\n",
       "        <td>17</td>\n",
       "        <td>Winter2016</td>\n",
       "    </tr>\n",
       "    <tr>\n",
       "        <td>18</td>\n",
       "        <td>Winter2017</td>\n",
       "    </tr>\n",
       "    <tr>\n",
       "        <td>19</td>\n",
       "        <td>Winter2018</td>\n",
       "    </tr>\n",
       "</table>"
      ],
      "text/plain": [
       "[(1, 'Fall2014'),\n",
       " (2, 'Fall2015'),\n",
       " (3, 'Fall2016'),\n",
       " (4, 'Fall2017'),\n",
       " (5, 'Fall2018'),\n",
       " (6, 'Spring2015'),\n",
       " (7, 'Spring2016'),\n",
       " (8, 'Spring2017'),\n",
       " (9, 'Spring2018'),\n",
       " (10, 'Spring2019'),\n",
       " (11, 'SpringBreak2017'),\n",
       " (12, 'Summer2015'),\n",
       " (13, 'Summer2016'),\n",
       " (14, 'Summer2017'),\n",
       " (15, 'Summer2018'),\n",
       " (16, 'Winter2015'),\n",
       " (17, 'Winter2016'),\n",
       " (18, 'Winter2017'),\n",
       " (19, 'Winter2018')]"
      ]
     },
     "execution_count": 21,
     "metadata": {},
     "output_type": "execute_result"
    }
   ],
   "source": []
  },
  {
   "cell_type": "code",
   "execution_count": null,
   "metadata": {},
   "outputs": [],
   "source": []
  }
 ],
 "metadata": {
  "kernelspec": {
   "display_name": "Python 3",
   "language": "python",
   "name": "python3"
  },
  "language_info": {
   "codemirror_mode": {
    "name": "ipython",
    "version": 3
   },
   "file_extension": ".py",
   "mimetype": "text/x-python",
   "name": "python",
   "nbconvert_exporter": "python",
   "pygments_lexer": "ipython3",
   "version": "3.6.7"
  }
 },
 "nbformat": 4,
 "nbformat_minor": 4
}
